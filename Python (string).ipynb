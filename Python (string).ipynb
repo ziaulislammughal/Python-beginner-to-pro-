{
 "cells": [
  {
   "cell_type": "markdown",
   "id": "7bf29f16-12c1-45da-8058-0f45d38a818d",
   "metadata": {},
   "source": [
    "## **Python Basics - Lecture 02**\n",
    "\n",
    "This note book cover the following concepts \n",
    "1. Python Strings"
   ]
  },
  {
   "cell_type": "markdown",
   "id": "38ac5b41-7af4-41d7-868e-af13ea185777",
   "metadata": {},
   "source": [
    "# **2- String in python**\n",
    "Strings in python are surrounded by either single quotation marks, or double quotation marks.\n",
    "'hello' is the same as \"hello\".\n",
    "\n",
    "You can display a string literal with the print() function:"
   ]
  },
  {
   "cell_type": "code",
   "execution_count": 1,
   "id": "7416835c-4bb6-4984-91e2-022c968805bc",
   "metadata": {},
   "outputs": [
    {
     "name": "stdout",
     "output_type": "stream",
     "text": [
      "hello world\n"
     ]
    }
   ],
   "source": [
    "print(\"hello world\")"
   ]
  },
  {
   "cell_type": "code",
   "execution_count": 2,
   "id": "e125665c-6ab9-4745-9fdc-75c48a042b04",
   "metadata": {},
   "outputs": [
    {
     "name": "stdout",
     "output_type": "stream",
     "text": [
      "hello world\n"
     ]
    }
   ],
   "source": [
    "print('hello world')"
   ]
  },
  {
   "cell_type": "markdown",
   "id": "bc02186f-8876-4a05-92fd-338ba602f02a",
   "metadata": {},
   "source": [
    "**Assign String to a Variable**\n",
    "Assigning a string to a variable is done with the variable name followed by an equal sign and the string:"
   ]
  },
  {
   "cell_type": "code",
   "execution_count": 3,
   "id": "0e4e68dd-bcd3-4e71-a20b-9859584defba",
   "metadata": {},
   "outputs": [
    {
     "name": "stdout",
     "output_type": "stream",
     "text": [
      " AHMAD MUGHAL \n"
     ]
    }
   ],
   "source": [
    "std_name = \" AHMAD MUGHAL \"\n",
    "print(std_name)"
   ]
  },
  {
   "cell_type": "markdown",
   "id": "f412d65b-737a-41b3-ac0f-87f70bbd2fd3",
   "metadata": {},
   "source": [
    "# **Multiline Strings**\n",
    "You can assign a multiline string to a variable by using three quotes Or three single quotes:"
   ]
  },
  {
   "cell_type": "code",
   "execution_count": 6,
   "id": "e31dd9a3-333a-4359-aeba-85db9ce2789a",
   "metadata": {},
   "outputs": [
    {
     "name": "stdout",
     "output_type": "stream",
     "text": [
      "AI, or Artificial Intelligence, refers to the development and implementation of computer systems\n",
      "      or machines that can perform tasks that would typically require human intelligence. \n",
      "      It is a multidisciplinary field that encompasses various subfields, such as machine learning,\n",
      "      natural language processing, computer vision, robotics, and more.\n"
     ]
    }
   ],
   "source": [
    "ai_info = \"\"\"AI, or Artificial Intelligence, refers to the development and implementation of computer systems\n",
    "      or machines that can perform tasks that would typically require human intelligence. \n",
    "      It is a multidisciplinary field that encompasses various subfields, such as machine learning,\n",
    "      natural language processing, computer vision, robotics, and more.\"\"\"\n",
    "print(ai_info)"
   ]
  },
  {
   "cell_type": "markdown",
   "id": "6a94f6be-decb-4704-96f5-96824c9a62ab",
   "metadata": {},
   "source": [
    "# **Modify Strings**"
   ]
  },
  {
   "cell_type": "markdown",
   "id": "71cde89c-d450-49c7-98bf-d4d097b133d9",
   "metadata": {},
   "source": [
    "## **Upper Case**\n",
    "The upper() method returns the string in upper case:"
   ]
  },
  {
   "cell_type": "code",
   "execution_count": 12,
   "id": "432bd7f1-d06f-4980-8bf1-89cfa2e1daf8",
   "metadata": {},
   "outputs": [
    {
     "name": "stdout",
     "output_type": "stream",
     "text": [
      " Hello world \n",
      "---------------------------------\n",
      " HELLO WORLD \n"
     ]
    }
   ],
   "source": [
    "string = \" Hello world \"\n",
    "print(string)\n",
    "print(\"---------------------------------\")\n",
    "upr_string = string.upper()\n",
    "print(upr_string)"
   ]
  },
  {
   "cell_type": "markdown",
   "id": "b04a8e12-cb7d-4263-bd36-12beec22fa4a",
   "metadata": {},
   "source": [
    "## **Lower Case**\n",
    "The lower() method returns the string in lower case:\n"
   ]
  },
  {
   "cell_type": "code",
   "execution_count": 15,
   "id": "e9e3fcd4-f390-4e77-89a0-35c2056ae0a2",
   "metadata": {},
   "outputs": [
    {
     "name": "stdout",
     "output_type": "stream",
     "text": [
      " HELLO WORLD \n",
      "---------------------------------\n",
      " hello world \n"
     ]
    }
   ],
   "source": [
    "print(upr_string)\n",
    "print(\"---------------------------------\")\n",
    "lower_string = upr_string.lower()\n",
    "print(lower_string)\n"
   ]
  },
  {
   "cell_type": "markdown",
   "id": "7cf4aa21-ced5-416b-b3b6-1910a4fd17c3",
   "metadata": {},
   "source": [
    "## **Remove Whitespace**\n",
    "Whitespace is the space before and/or after the actual text, and very often you want to remove this space.\n",
    "The strip() method removes any whitespace from the beginning or the end:"
   ]
  },
  {
   "cell_type": "code",
   "execution_count": 19,
   "id": "12d87356-263d-4789-8c4f-da06c4dd8aee",
   "metadata": {},
   "outputs": [
    {
     "name": "stdout",
     "output_type": "stream",
     "text": [
      "world , hellow\n"
     ]
    }
   ],
   "source": [
    "abc = \"     world , hellow        \"\n",
    "print(abc.strip())"
   ]
  },
  {
   "cell_type": "markdown",
   "id": "fd33f82f-2c1d-4f1a-b320-23c3a79d3a0a",
   "metadata": {},
   "source": [
    "## **Replace String**\n",
    "The replace() method replaces a string with another string:"
   ]
  },
  {
   "cell_type": "code",
   "execution_count": 21,
   "id": "6bf85b4a-ab73-43bd-860a-87163c4b2a1b",
   "metadata": {},
   "outputs": [
    {
     "name": "stdout",
     "output_type": "stream",
     "text": [
      " i love java \n",
      "-------------------\n",
      " i love python \n"
     ]
    }
   ],
   "source": [
    "a = \" i love java \"\n",
    "print(a)\n",
    "print(\"-------------------\")\n",
    "print(a.replace(\"java\", \"python\"))\n"
   ]
  },
  {
   "cell_type": "markdown",
   "id": "dcaadedb-d05b-4637-9968-982c17700054",
   "metadata": {},
   "source": [
    "## **Split String**\n",
    "The split() method returns a list where the text between the specified separator becomes the list items.\n",
    "The split() method splits the string into substrings if it finds instances of the separator:"
   ]
  },
  {
   "cell_type": "code",
   "execution_count": 25,
   "id": "392af6b6-6268-4340-b54d-78c717dbf1ee",
   "metadata": {},
   "outputs": [
    {
     "name": "stdout",
     "output_type": "stream",
     "text": [
      "hellow , world\n",
      "------------------------\n",
      "['hellow ', ' world']\n"
     ]
    }
   ],
   "source": [
    "b = \"hellow , world\"\n",
    "print(b)\n",
    "print(\"------------------------\")\n",
    "print(b.split(\",\"))"
   ]
  },
  {
   "cell_type": "code",
   "execution_count": null,
   "id": "ef5ac786-fb42-495d-bdec-5f8f37089caa",
   "metadata": {},
   "outputs": [],
   "source": []
  }
 ],
 "metadata": {
  "kernelspec": {
   "display_name": "Python 3 (ipykernel)",
   "language": "python",
   "name": "python3"
  },
  "language_info": {
   "codemirror_mode": {
    "name": "ipython",
    "version": 3
   },
   "file_extension": ".py",
   "mimetype": "text/x-python",
   "name": "python",
   "nbconvert_exporter": "python",
   "pygments_lexer": "ipython3",
   "version": "3.12.4"
  }
 },
 "nbformat": 4,
 "nbformat_minor": 5
}
