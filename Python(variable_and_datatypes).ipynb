{
  "nbformat": 4,
  "nbformat_minor": 0,
  "metadata": {
    "colab": {
      "private_outputs": true,
      "provenance": []
    },
    "kernelspec": {
      "name": "python3",
      "display_name": "Python 3"
    },
    "language_info": {
      "name": "python"
    }
  },
  "cells": [
    {
      "cell_type": "markdown",
      "source": [
        "# Agenda:\n",
        "\n",
        "---\n",
        "•\tProgramming Language (python)\n",
        "\n",
        "•\tWhy we learn python\n",
        "\n",
        "•\tVariables\n",
        "\n",
        "•\tData types\n",
        "\n",
        "•\tTypes of data types\n",
        "\n",
        "o\tInteger\n",
        "\n",
        "o\tFloat\n",
        "\n",
        "o\tString\n",
        "\n",
        "o\tBoolean\n",
        "\n",
        "o\tComplex number\n",
        "\n"
      ],
      "metadata": {
        "id": "IOFvuzqqnK2y"
      }
    },
    {
      "cell_type": "markdown",
      "source": [
        "\n",
        "\n",
        "---\n",
        "# Programming Language\n",
        "\n",
        "---\n",
        "A programming language is a formal system used by programmers to write instructions that a computer can execute. It has its own syntax and semantics, enabling the creation of software, websites, and other applications. Examples include Python, JavaScript, and C++.\n",
        "\n"
      ],
      "metadata": {
        "id": "vsKA_47jneCD"
      }
    },
    {
      "cell_type": "markdown",
      "source": [
        "# Why we learn python\n",
        "\n",
        "---\n",
        "\n",
        "\n",
        "We learn Python because it's easy to read and write, making it great for beginners. It's versatile, used in web development, data science, AI, and automation. Python also has a large community and extensive libraries, supporting a wide range of applications.\n"
      ],
      "metadata": {
        "id": "ZbF-GUxunqKy"
      }
    },
    {
      "cell_type": "markdown",
      "source": [
        "\n",
        "\n",
        "---\n",
        "# Starting with name of **Allah**\n",
        "\n",
        "---\n",
        "\n",
        "\n"
      ],
      "metadata": {
        "id": "X1zGp1SYn0Lv"
      }
    },
    {
      "cell_type": "markdown",
      "source": [
        "\n",
        "\n",
        "---\n",
        "\n",
        "\n",
        "\n",
        "\n",
        "\n"
      ],
      "metadata": {
        "id": "CoqoHQ28n_DH"
      }
    },
    {
      "cell_type": "markdown",
      "source": [
        "# Variables\n",
        "\n",
        "---\n",
        "\n",
        "\n",
        "Variables are used to store data in a program. They act as containers for values that can be changed or manipulated during the execution of a program.\n"
      ],
      "metadata": {
        "id": "_9IfJ6bOoB_X"
      }
    },
    {
      "cell_type": "code",
      "source": [
        "a = 10\n",
        "b = 25\n",
        "name = \"ZIA UL ISLAM \"\n",
        "BOOL  = True\n",
        "\n",
        "std_name = \"ali\"\n",
        "\n",
        "\n",
        "teach_name = \" abx \"\n"
      ],
      "metadata": {
        "id": "htkfMsvtszwj"
      },
      "execution_count": null,
      "outputs": []
    },
    {
      "cell_type": "markdown",
      "source": [
        "# Data Types\n",
        "\n",
        "---\n",
        "\n",
        "\n",
        "Data types specify the kind of data that can be stored in a variable. They determine the type of operations that can be performed on the data.\n"
      ],
      "metadata": {
        "id": "VBgr4GvxoHdP"
      }
    },
    {
      "cell_type": "markdown",
      "source": [
        "# Types of Data Types\n",
        "\n",
        "---\n",
        "\n",
        "\n",
        "1. Integer: Whole numbers without a decimal point (e.g., `5`, `-10`).\n",
        "\n",
        "---\n",
        "\n",
        "\n",
        "2. Float: Numbers with a decimal point (e.g., `3.14`, `-0.5`).\n",
        "\n",
        "---\n",
        "\n",
        "\n",
        "3. String: A sequence of characters enclosed in quotes (e.g., `\"Hello\"`, `'World'`).\n",
        "\n",
        "---\n",
        "\n",
        "\n",
        "4. Boolean: Represents two values: `True` or `False`.\n",
        "---\n",
        "5. Complex Number: Numbers with a real and an imaginary part (e.g., `2 + 3j`, `-1.5 + 2.7j`).\n",
        "---\n"
      ],
      "metadata": {
        "id": "REVyRhuaoMew"
      }
    },
    {
      "cell_type": "code",
      "source": [
        "#integar\n",
        "\n",
        "num = 1234567899\n",
        "print(type(num))"
      ],
      "metadata": {
        "id": "ThnO0l6voe1Y"
      },
      "execution_count": null,
      "outputs": []
    },
    {
      "cell_type": "code",
      "source": [
        "#float\n",
        "\n",
        "decimal_nbr = 5.2\n",
        "print(type(decimal_nbr))"
      ],
      "metadata": {
        "id": "z8lnYxaBtayM"
      },
      "execution_count": null,
      "outputs": []
    },
    {
      "cell_type": "code",
      "source": [
        "#string\n",
        "\n",
        "name = \"zia ul islam\"\n",
        "eassay = \"\"\" dsjfjkldsjflkdsjff\n",
        "dskfjsdkjfokds\n",
        "dljfldskjf\n",
        "skdjfkldsjf\n",
        "kksdfjkdsljf\n",
        "kjdflkdsjf\n",
        "sdkjfldksff\"\"\"\n",
        "print(type(eassay))\n",
        "print(\"------------------------------------------\")\n",
        "print(eassay)"
      ],
      "metadata": {
        "id": "WR7JX7mJthgM"
      },
      "execution_count": null,
      "outputs": []
    },
    {
      "cell_type": "code",
      "source": [
        "#boolean\n",
        "\n",
        "is_true = True\n",
        "print(type(is_true))\n",
        "is_false = False\n",
        "print(type(is_false))"
      ],
      "metadata": {
        "id": "npv1kEDBtmjU"
      },
      "execution_count": null,
      "outputs": []
    },
    {
      "cell_type": "code",
      "source": [
        "#complex nbr\n",
        "\n",
        "com_nbr = 5 + 6j\n",
        "print(type(com_nbr))"
      ],
      "metadata": {
        "id": "QXVbw8xYuB1q"
      },
      "execution_count": null,
      "outputs": []
    },
    {
      "cell_type": "code",
      "source": [],
      "metadata": {
        "id": "Iqssl2b9uOzZ"
      },
      "execution_count": null,
      "outputs": []
    }
  ]
}